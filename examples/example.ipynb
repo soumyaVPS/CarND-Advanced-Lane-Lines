{
 "cells": [
  {
   "cell_type": "markdown",
   "metadata": {},
   "source": [
    "## Advanced Lane Finding Project\n",
    "\n",
    "The goals / steps of this project are the following:\n",
    "\n",
    "* Compute the camera calibration matrix and distortion coefficients given a set of chessboard images.\n",
    "* Apply a distortion correction to raw images.\n",
    "* Use color transforms, gradients, etc., to create a thresholded binary image.\n",
    "* Apply a perspective transform to rectify binary image (\"birds-eye view\").\n",
    "* Detect lane pixels and fit to find the lane boundary.\n",
    "* Determine the curvature of the lane and vehicle position with respect to center.\n",
    "* Warp the detected lane boundaries back onto the original image.\n",
    "* Output visual display of the lane boundaries and numerical estimation of lane curvature and vehicle position.\n",
    "\n",
    "---\n",
    "## First, I'll compute the camera calibration using chessboard images"
   ]
  },
  {
   "cell_type": "code",
   "execution_count": 1,
   "metadata": {},
   "outputs": [
    {
     "name": "stdout",
     "output_type": "stream",
     "text": [
      "20\n"
     ]
    },
    {
     "name": "stdout",
     "output_type": "stream",
     "text": [
      "(720, 1280)\n"
     ]
    }
   ],
   "source": [
    "import numpy as np\n",
    "import cv2\n",
    "import glob\n",
    "import matplotlib.pyplot as plt\n",
    "%matplotlib qt\n",
    "\n",
    "# prepare object points, like (0,0,0), (1,0,0), (2,0,0) ....,(6,5,0)\n",
    "objp = np.zeros((6*9,3), np.float32)\n",
    "objp[:,:2] = np.mgrid[0:9,0:6].T.reshape(-1,2)\n",
    "\n",
    "# Arrays to store object points and image points from all  the images.\n",
    "objpoints = [] # 3d points in real world space\n",
    "imgpoints = [] # 2d points in image plane.\n",
    "\n",
    "# Make a list of calibration images\n",
    "images = glob.glob('/home/soumya/edu/advanced-lane/camera_cal/calibration*.jpg')\n",
    "print(len(images))\n",
    "# Step through the list and search for chessboard corners\n",
    "gray = []\n",
    "for fname in images:\n",
    "    img = cv2.imread(fname)\n",
    "    gray = cv2.cvtColor(img,cv2.COLOR_BGR2GRAY)\n",
    "\n",
    "    # Find the chessboard corners\n",
    "    ret, corners = cv2.findChessboardCorners(gray, (9,6),None)\n",
    "\n",
    "    # If found, add object points, image points\n",
    "    if ret == True:\n",
    "        objpoints.append(objp)\n",
    "        imgpoints.append(corners)\n",
    "\n",
    "        # Draw and display the corners\n",
    "        #img = cv2.drawChessboardCorners(img, (9,6), corners, ret)\n",
    "        #cv2.imshow('img',img)\n",
    "        #cv2.waitKey(500)\n",
    "\n",
    "img = cv2.imread('/home/soumya/edu/advanced-lane/camera_cal/calibration1.jpg')\n",
    "gray = cv2.cvtColor(img,cv2.COLOR_BGR2GRAY)\n",
    "\n",
    "print (gray.shape)       \n",
    "ret, mtx, dist, rvecs, tvecs = cv2.calibrateCamera(objpoints, imgpoints, gray.shape[::-1], None, None)\n",
    "#print (ret, mtx, dist, rvecs, tvecs)\n",
    "#img = cv2.imread('test_images/test1.jpg')\n",
    "\n",
    "#dst = cv2.undistort(img, mtx, dist, None, mtx)\n",
    "\n"
   ]
  },
  {
   "cell_type": "markdown",
   "metadata": {},
   "source": [
    "## And so on and so forth..."
   ]
  },
  {
   "cell_type": "code",
   "execution_count": 5,
   "metadata": {},
   "outputs": [
    {
     "name": "stdout",
     "output_type": "stream",
     "text": [
      "DDDDDDDD\n",
      "This image is: <class 'numpy.ndarray'> with dimensions: (720, 1280, 3)\n",
      "calling region_of_interest\n",
      "DDDDDDDDDDDDD\n",
      "calling warper\n"
     ]
    },
    {
     "data": {
      "image/png": "[encoded data removed]",
      "text/plain": [
       "<matplotlib.figure.Figure at 0x7fd19d56b198>"
      ]
     },
     "metadata": {},
     "output_type": "display_data"
    },
    {
     "data": {
      "image/png": "[encoded data removed]",
      "text/plain": [
       "<matplotlib.figure.Figure at 0x7fd1407da9e8>"
      ]
     },
     "metadata": {},
     "output_type": "display_data"
    }
   ],
   "source": [
    "%matplotlib inline\n",
    "def region_of_interest(img, vertices):\n",
    "    \"\"\"\n",
    "    Applies an image mask.\n",
    "    \n",
    "    Only keeps the region of the image defined by the polygon\n",
    "    formed from `vertices`. The rest of the image is set to black.\n",
    "    \"\"\"\n",
    "    #defining a blank mask to start with\n",
    "    mask = np.zeros_like(img)   \n",
    "    #plt.imshow(img)\n",
    "    #plt.waitforbuttonpress()\n",
    "    #defining a 3 channel or 1 channel color to fill the mask with depending on the input image\n",
    "    if len(img.shape) > 2:\n",
    "        channel_count = img.shape[2]  # i.e. 3 or 4 depending on your image\n",
    "        ignore_mask_color = (255,) * channel_count\n",
    "    else:\n",
    "        ignore_mask_color = 255\n",
    "        \n",
    "    #filling pixels inside the polygon defined by \"vertices\" with the fill color    \n",
    "    cv2.fillPoly(mask, vertices, ignore_mask_color)\n",
    "    \n",
    "    #returning the image only where mask pixels are nonzero\n",
    "    masked_image = cv2.bitwise_and(img, mask)\n",
    "    return masked_image\n",
    "\n",
    "def weighted_img(img, initial_img, α=0.8, β=1., λ=0.):\n",
    "    \"\"\"\n",
    "    initial_img * α + img * β + λ\n",
    "    NOTE: initial_img and img must be the same shape!\n",
    "    \"\"\"\n",
    "    return cv2.addWeighted(initial_img, α, img, β, λ)\n",
    "\n",
    "def warper(img, src, dst):\n",
    "\n",
    "    # Compute and apply perpective transform\n",
    "    img_size = (img.shape[1], img.shape[0])\n",
    "    M = cv2.getPerspectiveTransform(src, dst)\n",
    "    warped = cv2.warpPerspective(img, M, img_size, flags=cv2.INTER_NEAREST)  # keep same size as input image\n",
    "\n",
    "    return warped\n",
    "\n",
    "def process_image(img):\n",
    "    \n",
    "    #printing out some stats and plotting\n",
    "    print('This image is:', type(img), 'with dimensions:', img.shape)\n",
    "    # if you wanted to show a single color channel image called 'gray', for example, call as plt.imshow(gray, cmap='gray')\n",
    "    image = cv2.undistort(img, mtx, dist, None, mtx)\n",
    "\n",
    "    hls = cv2.cvtColor(image, cv2.COLOR_RGB2HLS)\n",
    "    S = hls[:,:,2]\n",
    "    thresh = (90, 255)\n",
    "    s_binary = np.zeros_like(S)\n",
    "    s_binary[(S > thresh[0]) & (S <= thresh[1])] = 1\n",
    "    \n",
    "    \n",
    "    gray = cv2.cvtColor(img, cv2.COLOR_RGB2GRAY)    \n",
    "    thresh_min = 20\n",
    "    thresh_max = 100\n",
    "    \n",
    "    sobelx = cv2.Sobel(gray, cv2.CV_64F, 1,0, ksize = 3) # Take the derivative in x\n",
    "    abs_sobelx = np.absolute(sobelx) # Absolute x derivative to accentuate lines away from horizontal\n",
    "    scaled_sobel = np.uint8(255*abs_sobelx/np.max(abs_sobelx))\n",
    "\n",
    "    #sobely = cv2.Sobel(gray, cv2.CV_64F, 0, 1, ksize=3)\n",
    "    # Calculate the gradient magnitude\n",
    "    #gradmag = np.sqrt(sobelx**2 + sobely**2)\n",
    "    # Rescale to 8 bit\n",
    "    #scale_factor = np.max(gradmag)/255 \n",
    "    #gradmag = (gradmag/scale_factor).astype(np.uint8) \n",
    "    # Create a binary image of ones where threshold is met, zeros otherwise\n",
    "    #sgrad_binary = np.zeros_like(gradmag)\n",
    "    \n",
    "    #sgrad_binary[(gradmag >= thresh_min) & (gradmag <= thresh_max)] = 1\n",
    "    \n",
    "    \n",
    "    sxbinary = np.zeros_like(scaled_sobel)\n",
    "    sxbinary[(scaled_sobel >= thresh_min) & (scaled_sobel <= thresh_max)] = 1\n",
    "    combined_binary = np.zeros_like(sxbinary)\n",
    "    combined_binary[(s_binary == 1) | (sxbinary == 1)] = 1\n",
    "\n",
    "    #plt.imshow(combined_binary)\n",
    "    #plt.title('combined_binary')\n",
    "    #plt.waitforbuttonpress()\n",
    "    \n",
    "    #mask your edges and \n",
    "    imshape = combined_binary.shape\n",
    "    \n",
    "    \n",
    "    #src_vertices = np.float32([[(10,imshape[0]),(imshape[1]/2, imshape[0]*0.58-10),\n",
    "    #                      (imshape[1]/2, imshape[0]*0.58+10), (imshape[1]-10,imshape[0])]], dtype=np.int32)\n",
    "    vertices = np.array([[(10,imshape[0]),(imshape[1]/2-10, imshape[0]*0.58),\n",
    "                          (imshape[1]/2+10, imshape[0]*0.58), (imshape[1]-10,imshape[0])]], dtype=np.int32)\n",
    "    print (\"calling region_of_interest\")\n",
    "    masked_image = region_of_interest(combined_binary, vertices) \n",
    "    plt.imshow(masked_image)\n",
    "    plt.title('masked_image')\n",
    "   \n",
    "    src_vertices = np.float32([\n",
    "                    [imshape[1]/2+10, imshape[0]*0.58], [imshape[1]-10,imshape[0]],\n",
    "                    [10,imshape[0]],[imshape[1]/2-10, imshape[0]*0.58]])\n",
    "   \n",
    "    '''\n",
    "    dst_vertices = np.float32([\n",
    "                    [imshape[1]-10, imshape[0]*0.3], [imshape[1]-10,imshape[0]],\n",
    "                    [10,imshape[0]],[10, imshape[0]*0.3]])\n",
    "    '''\n",
    "    dst_vertices = np.float32([\n",
    "                    [imshape[1]-10, 0], [imshape[1]-10,imshape[0]],\n",
    "                    [10,imshape[0]],[10, imshape[0]*0.3]])\n",
    "    print ('DDDDDDDDDDDDD')\n",
    "    print (\"calling warper\")\n",
    "    warped = warper(masked_image, src_vertices, dst_vertices)\n",
    "    fig, axes = plt.subplots(2,2)\n",
    "    axes[0,0].imshow(masked_image)\n",
    "\n",
    "    axes[0,1].imshow(warped)\n",
    "\n",
    "    \n",
    "'''    \n",
    "    \n",
    "    print('region of interest', vertices, type(masked_image), masked_image.shape)\n",
    "    masked_image = np.expand_dims(masked_image, axis=0)\n",
    "    outImage = weighted_img(masked_image, image)\n",
    "    plt.imshow(outImage)\n",
    "    plt.title('outImage')\n",
    "    plt.waitforbuttonpress()\n",
    "   '''\n",
    "'''s (masked_image, rho, theta, threshold, min_line_length, max_line_gap)\n",
    "\n",
    "    #plt.imshow(line_image)\n",
    "\n",
    "    outImage = weighted_img(line_image, image)\n",
    "    return outImage\n",
    "'''\n",
    "print (\"DDDDDDDD\")\n",
    "img = cv2.imread('/home/soumya/edu/advanced-lane/test_images/test1.jpg')\n",
    "process_image(img)"
   ]
  },
  {
   "cell_type": "code",
   "execution_count": null,
   "metadata": {},
   "outputs": [],
   "source": [
    "\n",
    "'''white_output = 'test_videos_output/solidWhiteRight.mp4'\n",
    "clip1 = VideoFileClip(\"test_videos/solidWhiteRight.mp4\")\n",
    "white_clip = clip1.fl_image(process_image) #NOTE: this function expects color images!!\n",
    "%time white_clip.write_videofile(white_output, audio=False)\n",
    "'''"
   ]
  },
  {
   "cell_type": "code",
   "execution_count": null,
   "metadata": {
    "collapsed": true
   },
   "outputs": [],
   "source": []
  },
  {
   "cell_type": "code",
   "execution_count": null,
   "metadata": {
    "collapsed": true
   },
   "outputs": [],
   "source": []
  }
 ],
 "metadata": {
  "anaconda-cloud": {},
  "kernelspec": {
   "display_name": "Python 3",
   "language": "python",
   "name": "python3"
  },
  "widgets": {
   "state": {},
   "version": "1.1.2"
  }
 },
 "nbformat": 4,
 "nbformat_minor": 1
}
